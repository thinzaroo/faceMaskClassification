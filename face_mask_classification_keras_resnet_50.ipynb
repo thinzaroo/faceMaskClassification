{
  "cells": [
    {
      "metadata": {
        "_uuid": "d629ff2d2480ee46fbb7e2d37f6b5fab8052498a",
        "_cell_guid": "79c7e3d0-c299-4dcb-8224-4455121ee9b0",
        "trusted": true,
        "id": "5kUlmq-KrQpw"
      },
      "cell_type": "code",
      "source": [
        "import numpy as np # linear algebra\n",
        "import pandas as pd # data processing, CSV file I/O (e.g. pd.read_csv)\n",
        "\n",
        "import tensorflow as tf\n",
        "from tensorflow import keras\n",
        "from tensorflow.keras.applications import ResNet50\n",
        "import numpy as np\n",
        "from pathlib import Path\n",
        "from keras.models import Sequential\n",
        "from keras.layers import Dense, Dropout, Flatten\n",
        "from tensorflow.keras.applications.resnet50 import preprocess_input\n",
        "from keras.preprocessing.image import ImageDataGenerator"
      ],
      "execution_count": 1,
      "outputs": []
    },
    {
      "metadata": {
        "trusted": true,
        "id": "QUTXa6HWrQpx"
      },
      "cell_type": "code",
      "source": [
        "data_generator = ImageDataGenerator(preprocessing_function=preprocess_input,validation_split=0.2)"
      ],
      "execution_count": 2,
      "outputs": []
    },
    {
      "metadata": {
        "trusted": true,
        "id": "zp1Mmx1qrQpy"
      },
      "cell_type": "code",
      "source": [
        "IMAGE_RESIZE = 224\n",
        "BATCH_SIZE_TRAINING = 100\n",
        "BATCH_SIZE_VALIDATION = 100\n",
        "EARLY_STOP_PATIENCE = 3\n",
        "RESNET50_POOLING_AVERAGE = 'avg'\n",
        "OBJECTIVE_FUNCTION = 'categorical_crossentropy'"
      ],
      "execution_count": 3,
      "outputs": []
    },
    {
      "cell_type": "code",
      "source": [
        "#mount google drive\n",
        "from google.colab import drive\n",
        "drive.mount(\"/content/gdrive\") "
      ],
      "metadata": {
        "colab": {
          "base_uri": "https://localhost:8080/"
        },
        "id": "5kM7sJGUsrdC",
        "outputId": "900caf87-ef78-48fd-e414-f85d3f8c626e"
      },
      "execution_count": 4,
      "outputs": [
        {
          "output_type": "stream",
          "name": "stdout",
          "text": [
            "Mounted at /content/gdrive\n"
          ]
        }
      ]
    },
    {
      "metadata": {
        "trusted": true,
        "id": "eXD3eRrFrQpy"
      },
      "cell_type": "code",
      "source": [
        "#define paths\n",
        "from pathlib import Path\n",
        "import os, shutil\n",
        "from keras.preprocessing import image\n",
        "os.mkdir('./test')\n",
        "positive_path = Path('/content/gdrive/My Drive/ML_assignment_data/with_mask')\n",
        "negative_path = Path('/content/gdrive/My Drive/ML_assignment_data/without_mask')\n",
        "\n",
        "images = []"
      ],
      "execution_count": 5,
      "outputs": []
    },
    {
      "metadata": {
        "trusted": true,
        "colab": {
          "base_uri": "https://localhost:8080/"
        },
        "id": "6M0EuLmErQp2",
        "outputId": "7fbdf29a-aa3e-4383-ff45-0e874371b178"
      },
      "cell_type": "code",
      "source": [
        "train_generator = data_generator.flow_from_directory(\n",
        "        '/content/gdrive/My Drive/ML_assignment_data',\n",
        "        target_size=(IMAGE_RESIZE, IMAGE_RESIZE),\n",
        "        batch_size=BATCH_SIZE_TRAINING,\n",
        "         subset='training',\n",
        "        class_mode='categorical')\n",
        "validation_generator = data_generator.flow_from_directory(\n",
        "        '/content/gdrive/My Drive/ML_assignment_data',\n",
        "        target_size=(IMAGE_RESIZE, IMAGE_RESIZE),\n",
        "        batch_size=BATCH_SIZE_VALIDATION,\n",
        "        subset='validation',\n",
        "        class_mode='categorical') \n",
        "\n"
      ],
      "execution_count": 9,
      "outputs": [
        {
          "output_type": "stream",
          "name": "stdout",
          "text": [
            "Found 6043 images belonging to 2 classes.\n",
            "Found 1510 images belonging to 2 classes.\n"
          ]
        }
      ]
    },
    {
      "metadata": {
        "trusted": true,
        "colab": {
          "base_uri": "https://localhost:8080/"
        },
        "id": "JkBiv9rtrQp5",
        "outputId": "509dbc02-f85d-4930-ccd0-0897de711925"
      },
      "cell_type": "code",
      "source": [
        "(BATCH_SIZE_TRAINING, len(train_generator), BATCH_SIZE_VALIDATION, len(validation_generator))"
      ],
      "execution_count": 10,
      "outputs": [
        {
          "output_type": "execute_result",
          "data": {
            "text/plain": [
              "(100, 61, 100, 16)"
            ]
          },
          "metadata": {},
          "execution_count": 10
        }
      ]
    },
    {
      "metadata": {
        "trusted": true,
        "id": "eOFzZUlirQp6"
      },
      "cell_type": "code",
      "source": [
        "from tensorflow.python.keras.callbacks import EarlyStopping, ModelCheckpoint\n",
        "\n",
        "cb_early_stopper = EarlyStopping(monitor = 'val_loss', patience = EARLY_STOP_PATIENCE)\n",
        "cb_checkpointer = ModelCheckpoint(filepath = 'best.hdf5', monitor = 'val_loss', save_best_only = True, mode = 'auto')"
      ],
      "execution_count": 11,
      "outputs": []
    },
    {
      "metadata": {
        "trusted": true,
        "colab": {
          "base_uri": "https://localhost:8080/"
        },
        "id": "smJdIsYirQp7",
        "outputId": "e8bcb573-6576-47a5-a0bb-af4b455eb20e"
      },
      "cell_type": "code",
      "source": [
        "model = Sequential()\n",
        "\n",
        "model.add(ResNet50(include_top = False, pooling = RESNET50_POOLING_AVERAGE, weights = 'imagenet'))\n",
        "\n",
        "model.add(Dense(2, activation = \"softmax\"))\n",
        "\n",
        "model.layers[0].trainable = False"
      ],
      "execution_count": 12,
      "outputs": [
        {
          "output_type": "stream",
          "name": "stdout",
          "text": [
            "Downloading data from https://storage.googleapis.com/tensorflow/keras-applications/resnet/resnet50_weights_tf_dim_ordering_tf_kernels_notop.h5\n",
            "94773248/94765736 [==============================] - 1s 0us/step\n",
            "94781440/94765736 [==============================] - 1s 0us/step\n"
          ]
        }
      ]
    },
    {
      "metadata": {
        "trusted": true,
        "colab": {
          "base_uri": "https://localhost:8080/"
        },
        "id": "cWhaqRVJrQp7",
        "outputId": "258b6efe-983e-48de-c4a1-15e0cfced2a8"
      },
      "cell_type": "code",
      "source": [
        "from tensorflow.keras import optimizers\n",
        "\n",
        "sgd = optimizers.SGD(lr = 0.01, decay = 1e-6, momentum = 0.9, nesterov = True)\n",
        "model.compile(optimizer = sgd, loss = \"categorical_crossentropy\", metrics = ['accuracy'])"
      ],
      "execution_count": 13,
      "outputs": [
        {
          "output_type": "stream",
          "name": "stderr",
          "text": [
            "/usr/local/lib/python3.7/dist-packages/keras/optimizer_v2/gradient_descent.py:102: UserWarning: The `lr` argument is deprecated, use `learning_rate` instead.\n",
            "  super(SGD, self).__init__(name, **kwargs)\n"
          ]
        }
      ]
    },
    {
      "metadata": {
        "trusted": true,
        "colab": {
          "base_uri": "https://localhost:8080/"
        },
        "id": "OlC_Kg48rQp8",
        "outputId": "f522d798-9348-45e1-e415-38a1796e5bac"
      },
      "cell_type": "code",
      "source": [
        "#10 steps per epoch and total 10 steps\n",
        "fit_history = model.fit_generator(\n",
        "        train_generator,\n",
        "        steps_per_epoch=10,\n",
        "        epochs = 10,\n",
        "        validation_data=validation_generator,\n",
        "        validation_steps=10,\n",
        "        callbacks=[cb_checkpointer, cb_early_stopper]\n",
        ")\n",
        "model.load_weights(\"best.hdf5\")"
      ],
      "execution_count": 14,
      "outputs": [
        {
          "output_type": "stream",
          "name": "stderr",
          "text": [
            "/usr/local/lib/python3.7/dist-packages/ipykernel_launcher.py:7: UserWarning: `Model.fit_generator` is deprecated and will be removed in a future version. Please use `Model.fit`, which supports generators.\n",
            "  import sys\n"
          ]
        },
        {
          "output_type": "stream",
          "name": "stdout",
          "text": [
            "Epoch 1/10\n",
            " 3/10 [========>.....................] - ETA: 4:36 - loss: 1.7432 - accuracy: 0.4650"
          ]
        },
        {
          "output_type": "stream",
          "name": "stderr",
          "text": [
            "/usr/local/lib/python3.7/dist-packages/PIL/Image.py:960: UserWarning: Palette images with Transparency expressed in bytes should be converted to RGBA images\n",
            "  \"Palette images with Transparency expressed in bytes should be \"\n"
          ]
        },
        {
          "output_type": "stream",
          "name": "stdout",
          "text": [
            "10/10 [==============================] - ETA: 0s - loss: 0.5107 - accuracy: 0.8441 "
          ]
        },
        {
          "output_type": "stream",
          "name": "stderr",
          "text": [
            "/usr/local/lib/python3.7/dist-packages/keras/engine/functional.py:1410: CustomMaskWarning: Custom mask layers require a config and must override get_config. When loading, the custom mask layer must be passed to the custom_objects argument.\n",
            "  layer_config = serialize_layer_fn(layer)\n"
          ]
        },
        {
          "output_type": "stream",
          "name": "stdout",
          "text": [
            "\b\b\b\b\b\b\b\b\b\b\b\b\b\b\b\b\b\b\b\b\b\b\b\b\b\b\b\b\b\b\b\b\b\b\b\b\b\b\b\b\b\b\b\b\b\b\b\b\b\b\b\b\b\b\b\b\b\b\b\b\b\b\b\b\b\b\b\b\b\b\b\b\b\b\b\b\b\b\b\b\b\b\r10/10 [==============================] - 716s 77s/step - loss: 0.5107 - accuracy: 0.8441 - val_loss: 0.0589 - val_accuracy: 0.9900\n",
            "Epoch 2/10\n",
            "10/10 [==============================] - 462s 46s/step - loss: 0.0225 - accuracy: 0.9900 - val_loss: 0.0682 - val_accuracy: 0.9850\n",
            "Epoch 3/10\n",
            "10/10 [==============================] - 406s 41s/step - loss: 0.0557 - accuracy: 0.9880 - val_loss: 0.0649 - val_accuracy: 0.9890\n",
            "Epoch 4/10\n",
            "10/10 [==============================] - 364s 37s/step - loss: 0.0443 - accuracy: 0.9870 - val_loss: 0.0430 - val_accuracy: 0.9900\n",
            "Epoch 5/10\n",
            "10/10 [==============================] - 318s 32s/step - loss: 0.0216 - accuracy: 0.9950 - val_loss: 0.0585 - val_accuracy: 0.9910\n",
            "Epoch 6/10\n",
            "10/10 [==============================] - 296s 30s/step - loss: 0.0177 - accuracy: 0.9950 - val_loss: 0.0759 - val_accuracy: 0.9940\n",
            "Epoch 7/10\n",
            "10/10 [==============================] - 280s 29s/step - loss: 0.0305 - accuracy: 0.9950 - val_loss: 0.0907 - val_accuracy: 0.9880\n"
          ]
        }
      ]
    },
    {
      "metadata": {
        "trusted": true,
        "colab": {
          "base_uri": "https://localhost:8080/"
        },
        "id": "Wr35A1PNrQp8",
        "outputId": "1b2782be-783f-4dfe-b200-bb9b71b55ee7"
      },
      "cell_type": "code",
      "source": [
        "print(fit_history.history.keys())"
      ],
      "execution_count": 15,
      "outputs": [
        {
          "output_type": "stream",
          "name": "stdout",
          "text": [
            "dict_keys(['loss', 'accuracy', 'val_loss', 'val_accuracy'])\n"
          ]
        }
      ]
    },
    {
      "metadata": {
        "trusted": true,
        "colab": {
          "base_uri": "https://localhost:8080/",
          "height": 276
        },
        "id": "DsB7opAcrQp9",
        "outputId": "8cd5dac3-ef59-4bc7-c804-4ba9e20a0447"
      },
      "cell_type": "code",
      "source": [
        "import matplotlib.pyplot as plt\n",
        "%matplotlib inline \n",
        "plt.figure(1, figsize = (15,8)) \n",
        "    \n",
        "plt.subplot(221)  \n",
        "plt.plot(fit_history.history['accuracy'])  \n",
        "plt.plot(fit_history.history['val_accuracy'])  \n",
        "plt.title('model accuracy')  \n",
        "plt.ylabel('accuracy')  \n",
        "plt.xlabel('epoch')  \n",
        "plt.legend(['train', 'valid']) \n",
        "    \n",
        "plt.subplot(222)  \n",
        "plt.plot(fit_history.history['loss'])  \n",
        "plt.plot(fit_history.history['val_loss'])  \n",
        "plt.title('model loss')  \n",
        "plt.ylabel('loss')  \n",
        "plt.xlabel('epoch')  \n",
        "plt.legend(['train', 'valid']) \n",
        "\n",
        "plt.show()"
      ],
      "execution_count": 16,
      "outputs": [
        {
          "output_type": "display_data",
          "data": {
            "image/png": "[encoded data removed]",
            "text/plain": [
              "<Figure size 1080x576 with 2 Axes>"
            ]
          },
          "metadata": {
            "needs_background": "light"
          }
        }
      ]
    }
  ],
  "metadata": {
    "kernelspec": {
      "name": "python3",
      "display_name": "Python 3",
      "language": "python"
    },
    "language_info": {
      "name": "python",
      "version": "3.7.6",
      "mimetype": "text/x-python",
      "codemirror_mode": {
        "name": "ipython",
        "version": 3
      },
      "pygments_lexer": "ipython3",
      "nbconvert_exporter": "python",
      "file_extension": ".py"
    },
    "colab": {
      "name": "face_mask_classification_keras_resnet-50.ipynb",
      "provenance": []
    }
  },
  "nbformat": 4,
  "nbformat_minor": 0
}