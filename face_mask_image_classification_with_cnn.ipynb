{
  "cells": [
    {
      "cell_type": "markdown",
      "metadata": {
        "id": "view-in-github",
        "colab_type": "text"
      },
      "source": [
        "<a href=\"https://colab.research.google.com/github/thinzaroo/faceMaskClassification/blob/main/face_mask_image_classification_with_cnn.ipynb\" target=\"_parent\"><img src=\"https://colab.research.google.com/assets/colab-badge.svg\" alt=\"Open In Colab\"/></a>"
      ]
    },
    {
      "cell_type": "code",
      "execution_count": 2,
      "id": "developmental-referral",
      "metadata": {
        "execution": {
          "iopub.execute_input": "2021-07-12T20:07:11.985319Z",
          "iopub.status.busy": "2021-07-12T20:07:11.984412Z",
          "iopub.status.idle": "2021-07-12T20:07:19.484531Z",
          "shell.execute_reply": "2021-07-12T20:07:19.483736Z",
          "shell.execute_reply.started": "2021-07-09T14:52:05.407957Z"
        },
        "papermill": {
          "duration": 7.532605,
          "end_time": "2021-07-12T20:07:19.484681",
          "exception": false,
          "start_time": "2021-07-12T20:07:11.952076",
          "status": "completed"
        },
        "tags": [],
        "id": "developmental-referral"
      },
      "outputs": [],
      "source": [
        "#Import necessary packages and libraries\n",
        "import os\n",
        "import pandas as pd\n",
        "import numpy as np\n",
        "import warnings\n",
        "warnings.filterwarnings(action=\"ignore\")\n",
        "import matplotlib.pyplot as plt\n",
        "%matplotlib inline\n",
        "import seaborn as sns\n",
        "from sklearn.preprocessing import StandardScaler \n",
        "from sklearn.model_selection import train_test_split \n",
        "from sklearn.metrics import classification_report\n",
        "\n",
        "#Tensorflow libraries\n",
        "import tensorflow as tf\n",
        "from tensorflow import keras\n",
        "from tensorflow.keras.models import Sequential\n",
        "from tensorflow.keras.layers import MaxPooling2D, Dense, Dropout,Flatten, Conv2D\n",
        "from tensorflow.keras.optimizers import Adam\n",
        "from tensorflow.keras.losses import SparseCategoricalCrossentropy\n",
        "from keras.preprocessing.image import ImageDataGenerator\n",
        "from tensorflow.keras.callbacks import TensorBoard,EarlyStopping "
      ]
    },
    {
      "cell_type": "code",
      "source": [
        "#mount google drive\n",
        "from google.colab import drive\n",
        "drive.mount(\"/content/gdrive\") "
      ],
      "metadata": {
        "colab": {
          "base_uri": "https://localhost:8080/"
        },
        "id": "LDJFyDUZoSUA",
        "outputId": "a0520036-b7a5-4342-86b4-c806761e1fe0"
      },
      "id": "LDJFyDUZoSUA",
      "execution_count": 3,
      "outputs": [
        {
          "output_type": "stream",
          "name": "stdout",
          "text": [
            "Mounted at /content/gdrive\n"
          ]
        }
      ]
    },
    {
      "cell_type": "code",
      "source": [
        "#count the number of files in folder (my dataset in Google Drive)\n",
        "\n",
        "DIR_WITH_MASK = '/content/gdrive/My Drive/ML_assignment_data/with_mask'\n",
        "DIR_WITHOUT_MASK = '/content/gdrive/My Drive/ML_assignment_data/without_mask'\n",
        "num_files_with_mask = len(os.listdir(DIR_WITH_MASK))\n",
        "num_files_without_mask = len(os.listdir(DIR_WITHOUT_MASK))\n",
        "print(num_files_with_mask)\n",
        "print(num_files_without_mask)"
      ],
      "metadata": {
        "colab": {
          "base_uri": "https://localhost:8080/"
        },
        "id": "ZbIHl2e9mifu",
        "outputId": "b75347df-583f-4bcc-9abb-966dcd7ccb08"
      },
      "id": "ZbIHl2e9mifu",
      "execution_count": 4,
      "outputs": [
        {
          "output_type": "stream",
          "name": "stdout",
          "text": [
            "3725\n",
            "3828\n"
          ]
        }
      ]
    },
    {
      "cell_type": "code",
      "source": [
        "#plot the classification of dataset\n",
        "\n",
        "import matplotlib.pyplot as plt\n",
        "fig = plt.figure()\n",
        "ax = fig.add_axes([0,0,1,1])\n",
        "classes = ['with_mask', 'without_mask']\n",
        "frequency = [num_files_with_mask,num_files_without_mask]\n",
        "ax.bar(classes,frequency)\n",
        "ax.set_ylabel('Frequency')\n",
        "ax.set_title('Distribution of different classes in dataset')\n",
        "plt.show()"
      ],
      "metadata": {
        "colab": {
          "base_uri": "https://localhost:8080/",
          "height": 353
        },
        "id": "ecU-kk6ApHnL",
        "outputId": "8ad59d67-dcdb-4c36-d626-1cacc88c02d6"
      },
      "id": "ecU-kk6ApHnL",
      "execution_count": null,
      "outputs": [
        {
          "output_type": "display_data",
          "data": {
            "image/png": "[encoded data removed]",
            "text/plain": [
              "<Figure size 432x288 with 1 Axes>"
            ]
          },
          "metadata": {
            "needs_background": "light"
          }
        }
      ]
    },
    {
      "cell_type": "code",
      "execution_count": 5,
      "id": "about-guide",
      "metadata": {
        "execution": {
          "iopub.execute_input": "2021-07-12T20:07:19.532649Z",
          "iopub.status.busy": "2021-07-12T20:07:19.531863Z",
          "iopub.status.idle": "2021-07-12T20:07:20.343183Z",
          "shell.execute_reply": "2021-07-12T20:07:20.343652Z",
          "shell.execute_reply.started": "2021-07-09T14:53:23.252676Z"
        },
        "papermill": {
          "duration": 0.839371,
          "end_time": "2021-07-12T20:07:20.343833",
          "exception": false,
          "start_time": "2021-07-12T20:07:19.504462",
          "status": "completed"
        },
        "tags": [],
        "colab": {
          "base_uri": "https://localhost:8080/"
        },
        "id": "about-guide",
        "outputId": "cd547d83-ab87-43a8-9c2d-a93b9812393b"
      },
      "outputs": [
        {
          "output_type": "stream",
          "name": "stdout",
          "text": [
            "                                           filepaths     labels\n",
            "0  /content/gdrive/My Drive/ML_assignment_data/wi...  with_mask\n",
            "1  /content/gdrive/My Drive/ML_assignment_data/wi...  with_mask\n",
            "2  /content/gdrive/My Drive/ML_assignment_data/wi...  with_mask\n",
            "3  /content/gdrive/My Drive/ML_assignment_data/wi...  with_mask\n",
            "4  /content/gdrive/My Drive/ML_assignment_data/wi...  with_mask\n",
            "without_mask    3828\n",
            "with_mask       3725\n",
            "Name: labels, dtype: int64\n"
          ]
        }
      ],
      "source": [
        "#convert the files to dataframe\n",
        "\n",
        "filepaths = []\n",
        "labels= []\n",
        "dict_list = [DIR_WITH_MASK, DIR_WITHOUT_MASK]\n",
        "for i, j in enumerate(dict_list):\n",
        "    flist=os.listdir(j)\n",
        "    for f in flist:\n",
        "        fpath=os.path.join(j,f)\n",
        "        filepaths.append(fpath)\n",
        "        if i==0:\n",
        "          labels.append('with_mask')\n",
        "        else:\n",
        "          labels.append('without_mask') \n",
        "    \n",
        "FileSeries = pd.Series(filepaths, name=\"filepaths\")\n",
        "LabelSeries = pd.Series(labels, name=\"labels\")\n",
        "mask_data = pd.concat([FileSeries,LabelSeries], axis=1)\n",
        "mask_df = pd.DataFrame(mask_data)\n",
        "print(mask_df.head())\n",
        "print(mask_df[\"labels\"].value_counts())"
      ]
    },
    {
      "cell_type": "code",
      "execution_count": 6,
      "id": "floral-robertson",
      "metadata": {
        "execution": {
          "iopub.execute_input": "2021-07-12T20:07:20.387059Z",
          "iopub.status.busy": "2021-07-12T20:07:20.386384Z",
          "iopub.status.idle": "2021-07-12T20:07:20.393443Z",
          "shell.execute_reply": "2021-07-12T20:07:20.394064Z",
          "shell.execute_reply.started": "2021-07-09T14:53:27.082428Z"
        },
        "papermill": {
          "duration": 0.030217,
          "end_time": "2021-07-12T20:07:20.394238",
          "exception": false,
          "start_time": "2021-07-12T20:07:20.364021",
          "status": "completed"
        },
        "tags": [],
        "colab": {
          "base_uri": "https://localhost:8080/"
        },
        "id": "floral-robertson",
        "outputId": "476fa340-fe30-4eb3-dfa3-816bf7d10bad"
      },
      "outputs": [
        {
          "output_type": "execute_result",
          "data": {
            "text/plain": [
              "(7553, 2)"
            ]
          },
          "metadata": {},
          "execution_count": 6
        }
      ],
      "source": [
        "#shape of datatset\n",
        "mask_df.shape"
      ]
    },
    {
      "cell_type": "code",
      "execution_count": 7,
      "id": "naked-macro",
      "metadata": {
        "execution": {
          "iopub.execute_input": "2021-07-12T20:07:20.438557Z",
          "iopub.status.busy": "2021-07-12T20:07:20.437854Z",
          "iopub.status.idle": "2021-07-12T20:07:20.445923Z",
          "shell.execute_reply": "2021-07-12T20:07:20.446467Z",
          "shell.execute_reply.started": "2021-07-09T14:53:29.541275Z"
        },
        "papermill": {
          "duration": 0.032333,
          "end_time": "2021-07-12T20:07:20.446643",
          "exception": false,
          "start_time": "2021-07-12T20:07:20.414310",
          "status": "completed"
        },
        "tags": [],
        "id": "naked-macro"
      },
      "outputs": [],
      "source": [
        "#train-test split\n",
        "\n",
        "train_set, test_images = train_test_split(mask_df, test_size=0.3, random_state=42)\n",
        "test_set, val_set = train_test_split(test_images, test_size=0.2, random_state=42)"
      ]
    },
    {
      "cell_type": "code",
      "execution_count": 8,
      "id": "premium-brunei",
      "metadata": {
        "execution": {
          "iopub.execute_input": "2021-07-12T20:07:20.490734Z",
          "iopub.status.busy": "2021-07-12T20:07:20.489945Z",
          "iopub.status.idle": "2021-07-12T20:07:33.996465Z",
          "shell.execute_reply": "2021-07-12T20:07:33.997163Z",
          "shell.execute_reply.started": "2021-07-09T14:53:32.871776Z"
        },
        "papermill": {
          "duration": 13.530551,
          "end_time": "2021-07-12T20:07:33.997343",
          "exception": false,
          "start_time": "2021-07-12T20:07:20.466792",
          "status": "completed"
        },
        "tags": [],
        "colab": {
          "base_uri": "https://localhost:8080/"
        },
        "id": "premium-brunei",
        "outputId": "3f98d559-1c51-489f-c2e5-c0292e20f69e"
      },
      "outputs": [
        {
          "output_type": "stream",
          "name": "stdout",
          "text": [
            "Found 5287 validated image filenames belonging to 2 classes.\n",
            "Found 1812 validated image filenames belonging to 2 classes.\n",
            "Found 454 validated image filenames belonging to 2 classes.\n"
          ]
        }
      ],
      "source": [
        "# Data Pre-processing, resize images and convert to grayscale\n",
        "image_gen = ImageDataGenerator(preprocessing_function= tf.keras.applications.mobilenet_v2.preprocess_input)\n",
        "\n",
        "train = image_gen.flow_from_dataframe(dataframe= train_set,x_col=\"filepaths\",y_col=\"labels\",\n",
        "                                      target_size=(244,244),\n",
        "                                      color_mode='grayscale',\n",
        "                                      class_mode=\"categorical\", #used for Sequential Model\n",
        "                                      batch_size=32,\n",
        "                                      shuffle=False            #do not shuffle data\n",
        "                                     )\n",
        "\n",
        "test = image_gen.flow_from_dataframe(dataframe= test_set,x_col=\"filepaths\", y_col=\"labels\",\n",
        "                                     target_size=(244,244),\n",
        "                                     color_mode='grayscale',\n",
        "                                     class_mode=\"categorical\",\n",
        "                                     batch_size=32,\n",
        "                                     shuffle= False\n",
        "                                    )\n",
        "\n",
        "val = image_gen.flow_from_dataframe(dataframe= val_set,x_col=\"filepaths\", y_col=\"labels\",\n",
        "                                    target_size=(244,244),\n",
        "                                    color_mode= 'grayscale',\n",
        "                                    class_mode=\"categorical\",\n",
        "                                    batch_size=32,\n",
        "                                    shuffle=False\n",
        "                                   )"
      ]
    },
    {
      "cell_type": "code",
      "execution_count": 9,
      "id": "japanese-harvard",
      "metadata": {
        "execution": {
          "iopub.execute_input": "2021-07-12T20:07:34.044095Z",
          "iopub.status.busy": "2021-07-12T20:07:34.043341Z",
          "iopub.status.idle": "2021-07-12T20:07:34.050048Z",
          "shell.execute_reply": "2021-07-12T20:07:34.049469Z",
          "shell.execute_reply.started": "2021-07-09T14:53:51.511728Z"
        },
        "papermill": {
          "duration": 0.031113,
          "end_time": "2021-07-12T20:07:34.050193",
          "exception": false,
          "start_time": "2021-07-12T20:07:34.019080",
          "status": "completed"
        },
        "tags": [],
        "colab": {
          "base_uri": "https://localhost:8080/"
        },
        "id": "japanese-harvard",
        "outputId": "59f746de-58a7-42ef-a6f3-27847c6ad835"
      },
      "outputs": [
        {
          "output_type": "stream",
          "name": "stdout",
          "text": [
            "['with_mask', 'without_mask']\n"
          ]
        }
      ],
      "source": [
        "classes=list(train.class_indices.keys())\n",
        "print (classes)"
      ]
    },
    {
      "cell_type": "code",
      "execution_count": 10,
      "id": "threaded-upgrade",
      "metadata": {
        "execution": {
          "iopub.execute_input": "2021-07-12T20:07:36.738812Z",
          "iopub.status.busy": "2021-07-12T20:07:36.738117Z",
          "iopub.status.idle": "2021-07-12T20:07:36.741490Z",
          "shell.execute_reply": "2021-07-12T20:07:36.740958Z",
          "shell.execute_reply.started": "2021-07-09T14:54:25.510234Z"
        },
        "papermill": {
          "duration": 0.069069,
          "end_time": "2021-07-12T20:07:36.741654",
          "exception": false,
          "start_time": "2021-07-12T20:07:36.672585",
          "status": "completed"
        },
        "tags": [],
        "id": "threaded-upgrade"
      },
      "outputs": [],
      "source": [
        "def plot_loss_and_accuracy(history):\n",
        "    history_df = pd.DataFrame(history)\n",
        "    history_df.loc[0:, ['loss', 'val_loss']].plot()\n",
        "    history_df.loc[0:, ['accuracy', 'val_accuracy']].plot()"
      ]
    },
    {
      "cell_type": "markdown",
      "id": "literary-porcelain",
      "metadata": {
        "papermill": {
          "duration": 0.059134,
          "end_time": "2021-07-12T20:07:36.861221",
          "exception": false,
          "start_time": "2021-07-12T20:07:36.802087",
          "status": "completed"
        },
        "tags": [],
        "id": "literary-porcelain"
      },
      "source": [
        "# Model #1"
      ]
    },
    {
      "cell_type": "code",
      "execution_count": 11,
      "id": "incomplete-turtle",
      "metadata": {
        "execution": {
          "iopub.execute_input": "2021-07-12T20:07:36.991726Z",
          "iopub.status.busy": "2021-07-12T20:07:36.991011Z",
          "iopub.status.idle": "2021-07-12T20:07:37.167691Z",
          "shell.execute_reply": "2021-07-12T20:07:37.166991Z",
          "shell.execute_reply.started": "2021-07-08T20:14:16.102904Z"
        },
        "papermill": {
          "duration": 0.246623,
          "end_time": "2021-07-12T20:07:37.167831",
          "exception": false,
          "start_time": "2021-07-12T20:07:36.921208",
          "status": "completed"
        },
        "tags": [],
        "colab": {
          "base_uri": "https://localhost:8080/"
        },
        "id": "incomplete-turtle",
        "outputId": "92cd4f4e-262d-47e4-8d12-90178397ea72"
      },
      "outputs": [
        {
          "output_type": "stream",
          "name": "stdout",
          "text": [
            "Model: \"sequential\"\n",
            "_________________________________________________________________\n",
            " Layer (type)                Output Shape              Param #   \n",
            "=================================================================\n",
            " conv2d (Conv2D)             (None, 244, 244, 32)      320       \n",
            "                                                                 \n",
            " max_pooling2d (MaxPooling2D  (None, 122, 122, 32)     0         \n",
            " )                                                               \n",
            "                                                                 \n",
            " conv2d_1 (Conv2D)           (None, 120, 120, 64)      18496     \n",
            "                                                                 \n",
            " max_pooling2d_1 (MaxPooling  (None, 60, 60, 64)       0         \n",
            " 2D)                                                             \n",
            "                                                                 \n",
            " conv2d_2 (Conv2D)           (None, 58, 58, 32)        18464     \n",
            "                                                                 \n",
            " max_pooling2d_2 (MaxPooling  (None, 29, 29, 32)       0         \n",
            " 2D)                                                             \n",
            "                                                                 \n",
            " dropout (Dropout)           (None, 29, 29, 32)        0         \n",
            "                                                                 \n",
            " flatten (Flatten)           (None, 26912)             0         \n",
            "                                                                 \n",
            " dense (Dense)               (None, 64)                1722432   \n",
            "                                                                 \n",
            " dropout_1 (Dropout)         (None, 64)                0         \n",
            "                                                                 \n",
            " dense_1 (Dense)             (None, 2)                 130       \n",
            "                                                                 \n",
            "=================================================================\n",
            "Total params: 1,759,842\n",
            "Trainable params: 1,759,842\n",
            "Non-trainable params: 0\n",
            "_________________________________________________________________\n"
          ]
        }
      ],
      "source": [
        "import keras\n",
        "from tensorflow.keras import layers\n",
        "\n",
        "CNN_1 = keras.Sequential([\n",
        "    layers.Conv2D(32, kernel_size=(3,3), activation='relu', padding='same', input_shape=(244,244,1)),\n",
        "    layers.MaxPooling2D(pool_size=(2, 2)),\n",
        "    \n",
        "    layers.Conv2D(64, kernel_size=(3,3), activation='relu'),\n",
        "    layers.MaxPooling2D(pool_size=(2, 2)),\n",
        "    \n",
        "    layers.Conv2D(32, kernel_size=(3,3), activation='relu'),\n",
        "    layers.MaxPooling2D(pool_size=(2, 2)),\n",
        "    layers.Dropout(0.25),\n",
        "    \n",
        "    layers.Flatten(),\n",
        "    layers.Dense(64, activation=\"relu\"),\n",
        "    layers.Dropout(0.5),\n",
        "    layers.Dense(2, activation='softmax')\n",
        "])\n",
        "\n",
        "CNN_1.compile(\n",
        "    optimizer='adam',\n",
        "    loss='categorical_crossentropy',\n",
        "    metrics=['accuracy']\n",
        ")\n",
        "CNN_1.optimizer.lr=0.001\n",
        "\n",
        "CNN_1.summary()"
      ]
    },
    {
      "cell_type": "code",
      "execution_count": 12,
      "id": "hidden-translator",
      "metadata": {
        "execution": {
          "iopub.execute_input": "2021-07-12T20:07:37.292464Z",
          "iopub.status.busy": "2021-07-12T20:07:37.291753Z",
          "iopub.status.idle": "2021-07-12T21:18:27.235326Z",
          "shell.execute_reply": "2021-07-12T21:18:27.235850Z"
        },
        "papermill": {
          "duration": 4250.007609,
          "end_time": "2021-07-12T21:18:27.236101",
          "exception": false,
          "start_time": "2021-07-12T20:07:37.228492",
          "status": "completed"
        },
        "tags": [],
        "colab": {
          "base_uri": "https://localhost:8080/"
        },
        "id": "hidden-translator",
        "outputId": "c71fa0b2-49bc-467c-c8ba-c42037067913"
      },
      "outputs": [
        {
          "metadata": {
            "tags": null
          },
          "name": "stdout",
          "output_type": "stream",
          "text": [
            "Epoch 1/15\n",
            "166/166 [==============================] - 786s 5s/step - loss: 0.5683 - accuracy: 0.7047 - val_loss: 0.4226 - val_accuracy: 0.8062\n",
            "Epoch 2/15\n",
            "166/166 [==============================] - 464s 3s/step - loss: 0.3693 - accuracy: 0.8387 - val_loss: 0.2962 - val_accuracy: 0.8744\n",
            "Epoch 3/15\n",
            "166/166 [==============================] - 461s 3s/step - loss: 0.2672 - accuracy: 0.8911 - val_loss: 0.2375 - val_accuracy: 0.8899\n",
            "Epoch 4/15\n",
            "166/166 [==============================] - 466s 3s/step - loss: 0.2065 - accuracy: 0.9181 - val_loss: 0.2514 - val_accuracy: 0.8943\n",
            "Epoch 5/15\n",
            "166/166 [==============================] - 459s 3s/step - loss: 0.1524 - accuracy: 0.9408 - val_loss: 0.2260 - val_accuracy: 0.8987\n",
            "Epoch 6/15\n",
            "166/166 [==============================] - 463s 3s/step - loss: 0.1141 - accuracy: 0.9533 - val_loss: 0.1974 - val_accuracy: 0.9295\n",
            "Epoch 7/15\n",
            "166/166 [==============================] - 467s 3s/step - loss: 0.0971 - accuracy: 0.9590 - val_loss: 0.3463 - val_accuracy: 0.8877\n",
            "Epoch 8/15\n",
            "166/166 [==============================] - 464s 3s/step - loss: 0.0815 - accuracy: 0.9678 - val_loss: 0.2532 - val_accuracy: 0.9053\n",
            "Epoch 9/15\n",
            "166/166 [==============================] - 470s 3s/step - loss: 0.0718 - accuracy: 0.9724 - val_loss: 0.2292 - val_accuracy: 0.9075\n",
            "Epoch 10/15\n",
            "166/166 [==============================] - 476s 3s/step - loss: 0.0602 - accuracy: 0.9784 - val_loss: 0.2349 - val_accuracy: 0.9361\n",
            "Epoch 11/15\n",
            "166/166 [==============================] - 471s 3s/step - loss: 0.0505 - accuracy: 0.9781 - val_loss: 0.2544 - val_accuracy: 0.9185\n",
            "Epoch 12/15\n",
            "166/166 [==============================] - 473s 3s/step - loss: 0.0503 - accuracy: 0.9843 - val_loss: 0.3452 - val_accuracy: 0.9097\n",
            "Epoch 13/15\n",
            "166/166 [==============================] - 472s 3s/step - loss: 0.0472 - accuracy: 0.9811 - val_loss: 0.2208 - val_accuracy: 0.9273\n",
            "Epoch 14/15\n",
            "166/166 [==============================] - 478s 3s/step - loss: 0.0374 - accuracy: 0.9869 - val_loss: 0.3242 - val_accuracy: 0.9141\n",
            "Epoch 15/15\n",
            "166/166 [==============================] - 473s 3s/step - loss: 0.0482 - accuracy: 0.9843 - val_loss: 0.2553 - val_accuracy: 0.9163\n"
          ]
        }
      ],
      "source": [
        "history_CNN = CNN_1.fit(train, validation_data= val, epochs=15,verbose=1)"
      ]
    },
    {
      "cell_type": "code",
      "execution_count": 13,
      "id": "exotic-talent",
      "metadata": {
        "execution": {
          "iopub.execute_input": "2021-07-12T21:18:28.904255Z",
          "iopub.status.busy": "2021-07-12T21:18:28.903396Z",
          "iopub.status.idle": "2021-07-12T21:18:29.327746Z",
          "shell.execute_reply": "2021-07-12T21:18:29.327080Z"
        },
        "papermill": {
          "duration": 1.268095,
          "end_time": "2021-07-12T21:18:29.327909",
          "exception": false,
          "start_time": "2021-07-12T21:18:28.059814",
          "status": "completed"
        },
        "tags": [],
        "colab": {
          "base_uri": "https://localhost:8080/",
          "height": 517
        },
        "id": "exotic-talent",
        "outputId": "064f3e94-49d5-4d5d-9472-f6b220003871"
      },
      "outputs": [
        {
          "output_type": "display_data",
          "data": {
            "image/png": "[encoded data removed]",
            "text/plain": [
              "<Figure size 432x288 with 1 Axes>"
            ]
          },
          "metadata": {
            "needs_background": "light"
          }
        },
        {
          "output_type": "display_data",
          "data": {
            "image/png": "[encoded data removed]",
            "text/plain": [
              "<Figure size 432x288 with 1 Axes>"
            ]
          },
          "metadata": {
            "needs_background": "light"
          }
        }
      ],
      "source": [
        "#resuts from model 1\n",
        "plot_loss_and_accuracy(history_CNN.history)"
      ]
    },
    {
      "cell_type": "markdown",
      "id": "collectible-blink",
      "metadata": {
        "papermill": {
          "duration": 0.845662,
          "end_time": "2021-07-12T21:18:31.030831",
          "exception": false,
          "start_time": "2021-07-12T21:18:30.185169",
          "status": "completed"
        },
        "tags": [],
        "id": "collectible-blink"
      },
      "source": [
        "detect overfitting in model 1"
      ]
    },
    {
      "cell_type": "code",
      "execution_count": 15,
      "id": "concrete-morocco",
      "metadata": {
        "execution": {
          "iopub.execute_input": "2021-07-12T21:18:32.720756Z",
          "iopub.status.busy": "2021-07-12T21:18:32.719861Z",
          "iopub.status.idle": "2021-07-12T21:19:04.526014Z",
          "shell.execute_reply": "2021-07-12T21:19:04.526543Z"
        },
        "papermill": {
          "duration": 32.658883,
          "end_time": "2021-07-12T21:19:04.526721",
          "exception": false,
          "start_time": "2021-07-12T21:18:31.867838",
          "status": "completed"
        },
        "tags": [],
        "colab": {
          "base_uri": "https://localhost:8080/"
        },
        "id": "concrete-morocco",
        "outputId": "dd79d67b-b2c9-4334-a68d-06a71f442a40"
      },
      "outputs": [
        {
          "output_type": "stream",
          "name": "stdout",
          "text": [
            "              precision    recall  f1-score   support\n",
            "\n",
            "   with_mask       0.91      0.91      0.91       889\n",
            "without_mask       0.92      0.92      0.92       923\n",
            "\n",
            "    accuracy                           0.92      1812\n",
            "   macro avg       0.91      0.92      0.91      1812\n",
            "weighted avg       0.92      0.92      0.92      1812\n",
            "\n"
          ]
        }
      ],
      "source": [
        "pred = CNN_1.predict(test)\n",
        "pred = np.argmax(pred, axis=1) #pick class with highest  probability\n",
        "\n",
        "labels = (train.class_indices)\n",
        "labels = dict((v,k) for k,v in labels.items())\n",
        "pred2 = [labels[k] for k in pred]\n",
        "\n",
        "y_test = test_set.labels # set y_test to the expected output\n",
        "print(classification_report(y_test, pred2))"
      ]
    },
    {
      "cell_type": "markdown",
      "id": "durable-private",
      "metadata": {
        "papermill": {
          "duration": 0.834965,
          "end_time": "2021-07-12T21:19:06.199761",
          "exception": false,
          "start_time": "2021-07-12T21:19:05.364796",
          "status": "completed"
        },
        "tags": [],
        "id": "durable-private"
      },
      "source": [
        "# Model #2"
      ]
    },
    {
      "cell_type": "code",
      "execution_count": 17,
      "id": "based-trader",
      "metadata": {
        "execution": {
          "iopub.execute_input": "2021-07-12T21:19:07.911402Z",
          "iopub.status.busy": "2021-07-12T21:19:07.910678Z",
          "iopub.status.idle": "2021-07-12T21:19:07.995603Z",
          "shell.execute_reply": "2021-07-12T21:19:07.994999Z",
          "shell.execute_reply.started": "2021-07-09T14:55:16.754976Z"
        },
        "papermill": {
          "duration": 0.965778,
          "end_time": "2021-07-12T21:19:07.995786",
          "exception": false,
          "start_time": "2021-07-12T21:19:07.030008",
          "status": "completed"
        },
        "tags": [],
        "colab": {
          "base_uri": "https://localhost:8080/"
        },
        "id": "based-trader",
        "outputId": "13a0c4ed-fb53-406e-e899-47e12f27fb89"
      },
      "outputs": [
        {
          "output_type": "stream",
          "name": "stdout",
          "text": [
            "Model: \"sequential_1\"\n",
            "_________________________________________________________________\n",
            " Layer (type)                Output Shape              Param #   \n",
            "=================================================================\n",
            " conv2d_3 (Conv2D)           (None, 242, 242, 32)      320       \n",
            "                                                                 \n",
            " max_pooling2d_3 (MaxPooling  (None, 121, 121, 32)     0         \n",
            " 2D)                                                             \n",
            "                                                                 \n",
            " conv2d_4 (Conv2D)           (None, 119, 119, 64)      18496     \n",
            "                                                                 \n",
            " max_pooling2d_4 (MaxPooling  (None, 59, 59, 64)       0         \n",
            " 2D)                                                             \n",
            "                                                                 \n",
            " conv2d_5 (Conv2D)           (None, 57, 57, 128)       73856     \n",
            "                                                                 \n",
            " max_pooling2d_5 (MaxPooling  (None, 28, 28, 128)      0         \n",
            " 2D)                                                             \n",
            "                                                                 \n",
            " global_average_pooling2d (G  (None, 128)              0         \n",
            " lobalAveragePooling2D)                                          \n",
            "                                                                 \n",
            " dense_2 (Dense)             (None, 256)               33024     \n",
            "                                                                 \n",
            " dense_3 (Dense)             (None, 2)                 514       \n",
            "                                                                 \n",
            "=================================================================\n",
            "Total params: 126,210\n",
            "Trainable params: 126,210\n",
            "Non-trainable params: 0\n",
            "_________________________________________________________________\n"
          ]
        }
      ],
      "source": [
        "from tensorflow.keras import layers\n",
        "\n",
        "cnnModel2 = tf.keras.models.Sequential([\n",
        "  layers.Conv2D(32, 3, activation='relu',input_shape=(244,244,1)),\n",
        "  layers.MaxPooling2D(),\n",
        "    \n",
        "  layers.Conv2D(64, 3, activation='relu'),\n",
        "  layers.MaxPooling2D(),\n",
        "    \n",
        "  layers.Conv2D(128, 3, activation='relu'),\n",
        "  layers.MaxPooling2D(),\n",
        "\n",
        "  layers.GlobalAveragePooling2D(),\n",
        "  layers.Dense(256, activation='relu'),\n",
        "  layers.Dense(2, activation= 'softmax')\n",
        "])\n",
        "\n",
        "cnnModel2.compile(\n",
        "    optimizer='adam',\n",
        "    loss='categorical_crossentropy',\n",
        "    metrics=['accuracy']\n",
        ")\n",
        "\n",
        "cnnModel2.summary()"
      ]
    },
    {
      "cell_type": "code",
      "execution_count": 18,
      "id": "behavioral-airplane",
      "metadata": {
        "execution": {
          "iopub.execute_input": "2021-07-12T21:19:09.695781Z",
          "iopub.status.busy": "2021-07-12T21:19:09.695081Z",
          "iopub.status.idle": "2021-07-12T22:41:59.460430Z",
          "shell.execute_reply": "2021-07-12T22:41:59.459765Z",
          "shell.execute_reply.started": "2021-07-09T14:56:43.768648Z"
        },
        "papermill": {
          "duration": 4970.618313,
          "end_time": "2021-07-12T22:41:59.460624",
          "exception": false,
          "start_time": "2021-07-12T21:19:08.842311",
          "status": "completed"
        },
        "tags": [],
        "colab": {
          "base_uri": "https://localhost:8080/"
        },
        "id": "behavioral-airplane",
        "outputId": "51c20b45-402a-4a8c-f1c3-d8bf3ab27af7"
      },
      "outputs": [
        {
          "output_type": "stream",
          "name": "stdout",
          "text": [
            "Epoch 1/15\n",
            "166/166 [==============================] - 557s 3s/step - loss: 0.6594 - accuracy: 0.5854 - val_loss: 0.6278 - val_accuracy: 0.6189\n",
            "Epoch 2/15\n",
            "166/166 [==============================] - 553s 3s/step - loss: 0.6152 - accuracy: 0.6461 - val_loss: 0.6068 - val_accuracy: 0.6542\n",
            "Epoch 3/15\n",
            "166/166 [==============================] - 550s 3s/step - loss: 0.5840 - accuracy: 0.6830 - val_loss: 0.5365 - val_accuracy: 0.7357\n",
            "Epoch 4/15\n",
            "166/166 [==============================] - 561s 3s/step - loss: 0.4822 - accuracy: 0.7753 - val_loss: 0.4311 - val_accuracy: 0.8018\n",
            "Epoch 5/15\n",
            "166/166 [==============================] - 551s 3s/step - loss: 0.4194 - accuracy: 0.8152 - val_loss: 0.3686 - val_accuracy: 0.8392\n",
            "Epoch 6/15\n",
            "166/166 [==============================] - 553s 3s/step - loss: 0.3684 - accuracy: 0.8470 - val_loss: 0.3366 - val_accuracy: 0.8502\n",
            "Epoch 7/15\n",
            "166/166 [==============================] - 557s 3s/step - loss: 0.3443 - accuracy: 0.8587 - val_loss: 0.3136 - val_accuracy: 0.8678\n",
            "Epoch 8/15\n",
            "166/166 [==============================] - 552s 3s/step - loss: 0.3192 - accuracy: 0.8716 - val_loss: 0.3390 - val_accuracy: 0.8700\n",
            "Epoch 9/15\n",
            "166/166 [==============================] - 549s 3s/step - loss: 0.2825 - accuracy: 0.8890 - val_loss: 0.2834 - val_accuracy: 0.8744\n",
            "Epoch 10/15\n",
            "166/166 [==============================] - 561s 3s/step - loss: 0.2670 - accuracy: 0.8878 - val_loss: 0.2656 - val_accuracy: 0.8634\n",
            "Epoch 11/15\n",
            "166/166 [==============================] - 565s 3s/step - loss: 0.2490 - accuracy: 0.8988 - val_loss: 0.2680 - val_accuracy: 0.8767\n",
            "Epoch 12/15\n",
            "166/166 [==============================] - 552s 3s/step - loss: 0.2304 - accuracy: 0.9085 - val_loss: 0.3443 - val_accuracy: 0.8436\n",
            "Epoch 13/15\n",
            "166/166 [==============================] - 558s 3s/step - loss: 0.2232 - accuracy: 0.9096 - val_loss: 0.2429 - val_accuracy: 0.8877\n",
            "Epoch 14/15\n",
            "166/166 [==============================] - 550s 3s/step - loss: 0.2022 - accuracy: 0.9245 - val_loss: 0.2173 - val_accuracy: 0.9031\n",
            "Epoch 15/15\n",
            "166/166 [==============================] - 562s 3s/step - loss: 0.1845 - accuracy: 0.9302 - val_loss: 0.2253 - val_accuracy: 0.9031\n"
          ]
        }
      ],
      "source": [
        "#train model 2 for 15 epochs\n",
        "history_m2_CNN = cnnModel2.fit(train, validation_data= val, epochs=15,verbose=1)"
      ]
    },
    {
      "cell_type": "code",
      "execution_count": null,
      "id": "studied-china",
      "metadata": {
        "execution": {
          "iopub.execute_input": "2021-07-12T22:42:02.681104Z",
          "iopub.status.busy": "2021-07-12T22:42:02.680415Z",
          "iopub.status.idle": "2021-07-12T22:42:03.019692Z",
          "shell.execute_reply": "2021-07-12T22:42:03.020226Z",
          "shell.execute_reply.started": "2021-07-09T16:42:52.24374Z"
        },
        "papermill": {
          "duration": 1.970491,
          "end_time": "2021-07-12T22:42:03.020424",
          "exception": false,
          "start_time": "2021-07-12T22:42:01.049933",
          "status": "completed"
        },
        "tags": [],
        "colab": {
          "base_uri": "https://localhost:8080/",
          "height": 513
        },
        "id": "studied-china",
        "outputId": "050b4826-ad93-4fe0-bca0-a487c10a8b68"
      },
      "outputs": [
        {
          "output_type": "display_data",
          "data": {
            "image/png": "[encoded data removed]",
            "text/plain": [
              "<Figure size 432x288 with 1 Axes>"
            ]
          },
          "metadata": {
            "needs_background": "light"
          }
        },
        {
          "output_type": "display_data",
          "data": {
            "image/png": "[encoded data removed]",
            "text/plain": [
              "<Figure size 432x288 with 1 Axes>"
            ]
          },
          "metadata": {
            "needs_background": "light"
          }
        }
      ],
      "source": [
        "plot_loss_and_accuracy(history_m2_CNN.history)"
      ]
    },
    {
      "cell_type": "markdown",
      "id": "correct-distributor",
      "metadata": {
        "papermill": {
          "duration": 1.625701,
          "end_time": "2021-07-12T22:42:06.246713",
          "exception": false,
          "start_time": "2021-07-12T22:42:04.621012",
          "status": "completed"
        },
        "tags": [],
        "id": "correct-distributor"
      },
      "source": [
        "Overcome overfitting compare to model 1, but does not improve accuracy much."
      ]
    },
    {
      "cell_type": "markdown",
      "id": "favorite-jungle",
      "metadata": {
        "papermill": {
          "duration": 1.65902,
          "end_time": "2021-07-12T22:42:10.273103",
          "exception": false,
          "start_time": "2021-07-12T22:42:08.614083",
          "status": "completed"
        },
        "tags": [],
        "id": "favorite-jungle"
      },
      "source": [
        "# Confustion Matrix"
      ]
    },
    {
      "cell_type": "code",
      "execution_count": 22,
      "id": "biological-friday",
      "metadata": {
        "execution": {
          "iopub.execute_input": "2021-07-12T22:42:13.496728Z",
          "iopub.status.busy": "2021-07-12T22:42:13.496069Z",
          "iopub.status.idle": "2021-07-12T22:42:49.368654Z",
          "shell.execute_reply": "2021-07-12T22:42:49.369251Z",
          "shell.execute_reply.started": "2021-07-09T16:49:04.138445Z"
        },
        "papermill": {
          "duration": 37.473561,
          "end_time": "2021-07-12T22:42:49.369442",
          "exception": false,
          "start_time": "2021-07-12T22:42:11.895881",
          "status": "completed"
        },
        "tags": [],
        "colab": {
          "base_uri": "https://localhost:8080/"
        },
        "id": "biological-friday",
        "outputId": "1e6cc648-a738-4515-8767-802fc97c88a7"
      },
      "outputs": [
        {
          "output_type": "stream",
          "name": "stdout",
          "text": [
            "              precision    recall  f1-score   support\n",
            "\n",
            "   with_mask       0.91      0.91      0.91       889\n",
            "without_mask       0.91      0.92      0.92       923\n",
            "\n",
            "    accuracy                           0.91      1812\n",
            "   macro avg       0.91      0.91      0.91      1812\n",
            "weighted avg       0.91      0.91      0.91      1812\n",
            "\n"
          ]
        }
      ],
      "source": [
        "pred_mod2 = cnnModel2.predict(test)\n",
        "pred_mod2 = np.argmax(pred_mod2, axis=1) #pick class with highest  probability\n",
        "\n",
        "labels = (train.class_indices)\n",
        "labels = dict((v,k) for k,v in labels.items())\n",
        "pred2_mod2 = [labels[k] for k in pred_mod2]\n",
        "\n",
        "y_test = test_set.labels # set y_test to the expected output\n",
        "print(classification_report(y_test, pred2_mod2))"
      ]
    },
    {
      "cell_type": "code",
      "execution_count": 20,
      "id": "identified-joint",
      "metadata": {
        "execution": {
          "iopub.execute_input": "2021-07-12T22:42:52.696623Z",
          "iopub.status.busy": "2021-07-12T22:42:52.695956Z",
          "iopub.status.idle": "2021-07-12T22:42:52.954482Z",
          "shell.execute_reply": "2021-07-12T22:42:52.955037Z",
          "shell.execute_reply.started": "2021-07-07T19:43:27.081814Z"
        },
        "papermill": {
          "duration": 1.936397,
          "end_time": "2021-07-12T22:42:52.955256",
          "exception": false,
          "start_time": "2021-07-12T22:42:51.018859",
          "status": "completed"
        },
        "tags": [],
        "colab": {
          "base_uri": "https://localhost:8080/",
          "height": 353
        },
        "id": "identified-joint",
        "outputId": "748a4a09-c179-4a95-9e89-e37bb3161877"
      },
      "outputs": [
        {
          "output_type": "execute_result",
          "data": {
            "text/plain": [
              "<matplotlib.axes._subplots.AxesSubplot at 0x7f88e1e35390>"
            ]
          },
          "metadata": {},
          "execution_count": 20
        },
        {
          "output_type": "display_data",
          "data": {
            "image/png": "[encoded data removed]",
            "text/plain": [
              "<Figure size 720x360 with 2 Axes>"
            ]
          },
          "metadata": {
            "needs_background": "light"
          }
        }
      ],
      "source": [
        "# model 1\n",
        "from sklearn.metrics import confusion_matrix, accuracy_score\n",
        "plt.figure(figsize = (10,5))\n",
        "ax = plt.axes()\n",
        "cm = confusion_matrix(y_test, pred2)\n",
        "ax.set_title('Model 1')\n",
        "sns.heatmap(cm, annot=True, fmt = 'g', ax=ax)"
      ]
    },
    {
      "cell_type": "code",
      "execution_count": 24,
      "id": "fifty-opera",
      "metadata": {
        "execution": {
          "iopub.execute_input": "2021-07-12T22:42:56.229319Z",
          "iopub.status.busy": "2021-07-12T22:42:56.228637Z",
          "iopub.status.idle": "2021-07-12T22:42:56.487968Z",
          "shell.execute_reply": "2021-07-12T22:42:56.488617Z",
          "shell.execute_reply.started": "2021-07-09T16:52:31.981562Z"
        },
        "papermill": {
          "duration": 1.880856,
          "end_time": "2021-07-12T22:42:56.488811",
          "exception": false,
          "start_time": "2021-07-12T22:42:54.607955",
          "status": "completed"
        },
        "tags": [],
        "colab": {
          "base_uri": "https://localhost:8080/",
          "height": 353
        },
        "id": "fifty-opera",
        "outputId": "ccf719b6-45f0-4557-b78f-3ad257542ab9"
      },
      "outputs": [
        {
          "output_type": "execute_result",
          "data": {
            "text/plain": [
              "<matplotlib.axes._subplots.AxesSubplot at 0x7f88d6cef1d0>"
            ]
          },
          "metadata": {},
          "execution_count": 24
        },
        {
          "output_type": "display_data",
          "data": {
            "image/png": "[encoded data removed]",
            "text/plain": [
              "<Figure size 720x360 with 2 Axes>"
            ]
          },
          "metadata": {
            "needs_background": "light"
          }
        }
      ],
      "source": [
        "# model 2\n",
        "from sklearn.metrics import confusion_matrix, accuracy_score\n",
        "plt.figure(figsize = (10,5))\n",
        "ax = plt.axes()\n",
        "cm = confusion_matrix(y_test, pred2_mod2)\n",
        "ax.set_title('Model 2')\n",
        "sns.heatmap(cm, annot=True, fmt = 'g', ax=ax)"
      ]
    },
    {
      "cell_type": "code",
      "source": [
        "print(\"Model1 Accuracy:\" + str(accuracy_score(y_test, pred2)))\n",
        "print(\"Model2 Accuracy:\" + str(accuracy_score(y_test, pred2_mod2)))"
      ],
      "metadata": {
        "id": "SMPq08NRPUk7",
        "colab": {
          "base_uri": "https://localhost:8080/"
        },
        "outputId": "6b895b02-a65c-46d1-d3a8-6a557b448acb"
      },
      "id": "SMPq08NRPUk7",
      "execution_count": 26,
      "outputs": [
        {
          "output_type": "stream",
          "name": "stdout",
          "text": [
            "Model1 Accuracy:0.9150110375275938\n",
            "Model2 Accuracy:0.9133554083885209\n"
          ]
        }
      ]
    }
  ],
  "metadata": {
    "kernelspec": {
      "display_name": "Python 3",
      "language": "python",
      "name": "python3"
    },
    "language_info": {
      "codemirror_mode": {
        "name": "ipython",
        "version": 3
      },
      "file_extension": ".py",
      "mimetype": "text/x-python",
      "name": "python",
      "nbconvert_exporter": "python",
      "pygments_lexer": "ipython3",
      "version": "3.7.10"
    },
    "papermill": {
      "default_parameters": {},
      "duration": 9360.881323,
      "end_time": "2021-07-12T22:43:03.656858",
      "environment_variables": {},
      "exception": null,
      "input_path": "__notebook__.ipynb",
      "output_path": "__notebook__.ipynb",
      "parameters": {},
      "start_time": "2021-07-12T20:07:02.775535",
      "version": "2.3.3"
    },
    "colab": {
      "name": "face-mask-image-classification-with-cnn.ipynb",
      "provenance": [],
      "collapsed_sections": [],
      "include_colab_link": true
    }
  },
  "nbformat": 4,
  "nbformat_minor": 5
}